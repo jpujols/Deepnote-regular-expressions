{
 "cells": [
  {
   "cell_type": "markdown",
   "source": "## What are regular expressions",
   "metadata": {
    "tags": [],
    "is_collapsed": false,
    "cell_id": "00000-fb39fc1b-2acd-49ab-9688-7920f57d73ce",
    "deepnote_cell_type": "text-cell-h2",
    "deepnote_cell_height": 70
   }
  },
  {
   "cell_type": "code",
   "metadata": {
    "tags": [],
    "cell_id": "00000-00f0b971-64de-4e35-bf6f-a89d72f0a81d",
    "deepnote_to_be_reexecuted": false,
    "source_hash": "20b3f5dd",
    "execution_start": 1638894249400,
    "execution_millis": 11,
    "deepnote_cell_type": "code",
    "deepnote_cell_height": 111.328125
   },
   "source": "print('Hello')",
   "execution_count": null,
   "outputs": [
    {
     "name": "stdout",
     "text": "Hello\n",
     "output_type": "stream"
    }
   ]
  },
  {
   "cell_type": "code",
   "metadata": {
    "tags": [],
    "cell_id": "00001-cde73cb7-d40e-47af-ac10-b7827cf49181",
    "deepnote_cell_type": "code",
    "deepnote_cell_height": 66
   },
   "source": "filenames = ['nov-12.txt', 'november-14.txt', 'Oct-17.txt', 'Nov-22.txt']",
   "execution_count": null,
   "outputs": []
  },
  {
   "cell_type": "markdown",
   "source": "## Regular Expression Example",
   "metadata": {
    "tags": [],
    "is_collapsed": false,
    "cell_id": "00004-35835222-851c-4814-8edd-49c0b54f49e0",
    "deepnote_cell_type": "text-cell-h2",
    "deepnote_cell_height": 70
   }
  },
  {
   "cell_type": "code",
   "metadata": {
    "tags": [],
    "cell_id": "00002-6d1854f9-0499-46d8-a1e9-2b3f8d9e7c97",
    "deepnote_to_be_reexecuted": false,
    "source_hash": "87d0261d",
    "execution_start": 1638902556655,
    "execution_millis": 5,
    "deepnote_cell_type": "code",
    "deepnote_cell_height": 81
   },
   "source": "text = 'Hi there you here exa_mple@example.com @blabla some more text here and there another@example.de'",
   "execution_count": null,
   "outputs": []
  },
  {
   "cell_type": "code",
   "metadata": {
    "tags": [],
    "cell_id": "00003-665cba33-2f2a-4011-82cf-234bdbc8106b",
    "deepnote_to_be_reexecuted": false,
    "source_hash": "c0701c9b",
    "execution_start": 1638902577622,
    "execution_millis": 7,
    "deepnote_cell_type": "code",
    "deepnote_cell_height": 189.65625,
    "deepnote_output_heights": [
     20.65625
    ]
   },
   "source": "import re\n\npattern = re.compile(\"[^ ]+@[^ ]+.[a-z]+\")\nmatches = pattern.findall(text)\nmatches",
   "execution_count": null,
   "outputs": [
    {
     "output_type": "execute_result",
     "execution_count": 61,
     "data": {
      "text/plain": "['exa_mple@example.com', 'another@example.de']"
     },
     "metadata": {}
    }
   ]
  },
  {
   "cell_type": "markdown",
   "source": "## Meta characters",
   "metadata": {
    "tags": [],
    "is_collapsed": false,
    "cell_id": "00006-25826c8b-bcb5-4098-8a77-ec5207460906",
    "deepnote_cell_type": "text-cell-h2",
    "deepnote_cell_height": 70
   }
  },
  {
   "cell_type": "code",
   "metadata": {
    "tags": [],
    "cell_id": "00007-63985bba-03dc-4512-9acc-d0bd1f00c0c5",
    "deepnote_cell_type": "code",
    "deepnote_cell_height": 282
   },
   "source": ".        Matches any single character\n\\        Escapes one of the meta characters to treat it as a regular character\n[...]    Matches a single character or a range that is contained within brackets\n         _- -_ order does not matter but without brackets order does matter\n+        Matches the preeceding element one or more times\n?        Matches the preeceding pattern element zero or one time\n*        Matches the preeceding element zero or more times\n{m,n}    Matches the preeceding element at least m and not more than n times\n^        Matches the beginning of a line or string\n$        Matches the end of a line or string\n[^...]   Matches a single character or a range that is not contained within the brackets\n?:...|...\"Or\" operator\n()       Matches an optional expression",
   "execution_count": null,
   "outputs": []
  },
  {
   "cell_type": "code",
   "metadata": {
    "tags": [],
    "cell_id": "00008-82d4f24b-04bf-4466-a0a1-7cced85ee781",
    "deepnote_to_be_reexecuted": false,
    "source_hash": "8243bdc2",
    "execution_start": 1638959114799,
    "execution_millis": 165,
    "deepnote_cell_type": "code",
    "deepnote_cell_height": 243.65625,
    "deepnote_output_heights": [
     20.65625
    ]
   },
   "source": "text = 'Hi there you here exa_mple@example.com @blabla.com some more text here and there another@example.de another@exampl.ne'\n\nimport re\n\npattern = re.compile(\"[^ ]+@[^ ]+\\.(?:com|de)+\")\nmatches = pattern.findall(text)\nmatches\n",
   "execution_count": null,
   "outputs": [
    {
     "output_type": "execute_result",
     "execution_count": 6,
     "data": {
      "text/plain": "['exa_mple@example.com', 'another@example.de']"
     },
     "metadata": {}
    }
   ]
  },
  {
   "cell_type": "markdown",
   "source": "## Extract URLs from Text",
   "metadata": {
    "tags": [],
    "is_collapsed": false,
    "cell_id": "00010-52544c71-50d8-4717-9041-ada28607cf8c",
    "deepnote_cell_type": "text-cell-h2",
    "deepnote_cell_height": 70
   }
  },
  {
   "cell_type": "code",
   "metadata": {
    "tags": [],
    "cell_id": "00010-3ba917ae-90e5-4fa0-984b-a3720972fbf4",
    "deepnote_to_be_reexecuted": false,
    "source_hash": "798eb069",
    "execution_start": 1638953920091,
    "execution_millis": 168,
    "deepnote_cell_type": "code",
    "deepnote_cell_height": 242.65625,
    "deepnote_output_heights": [
     21.1875
    ]
   },
   "source": "with open('urls.txt', 'r') as file:\n    content = file.read()\n\nprint(content)",
   "execution_count": null,
   "outputs": [
    {
     "name": "stdout",
     "text": "http://google.com\nhttps://example.com\nhttp://www.wikipedia.com\nhttp://pythonhow.com\nhttps://python.org\n",
     "output_type": "stream"
    }
   ]
  },
  {
   "cell_type": "code",
   "metadata": {
    "tags": [],
    "cell_id": "00011-54d2366b-b41f-410f-817d-963157454a05",
    "deepnote_to_be_reexecuted": false,
    "source_hash": "d26842b8",
    "execution_start": 1638955108007,
    "execution_millis": 5,
    "deepnote_cell_type": "code",
    "deepnote_cell_height": 245.65625,
    "deepnote_output_heights": [
     76.65625
    ]
   },
   "source": "import re\n\npattern = re.compile(\"https?://(?:www.)?[^ \\n]+\\.com\")\nmatches = pattern.findall(content)\nmatches",
   "execution_count": null,
   "outputs": [
    {
     "output_type": "execute_result",
     "execution_count": 11,
     "data": {
      "text/plain": "['http://google.com',\n 'https://example.com',\n 'http://www.wikipedia.com',\n 'http://pythonhow.com']"
     },
     "metadata": {}
    }
   ]
  },
  {
   "cell_type": "markdown",
   "source": "## Extract IP addresses using regex",
   "metadata": {
    "tags": [],
    "is_collapsed": false,
    "cell_id": "00012-6db4504c-09ed-4d83-bff6-25505cfe7001",
    "deepnote_cell_type": "text-cell-h2",
    "deepnote_cell_height": 70
   }
  },
  {
   "cell_type": "code",
   "metadata": {
    "tags": [],
    "cell_id": "00013-b70a223f-1eab-4292-b244-38fe5f1c9720",
    "deepnote_to_be_reexecuted": false,
    "source_hash": "67aabed0",
    "execution_start": 1638955852766,
    "execution_millis": 10,
    "deepnote_cell_type": "code",
    "deepnote_cell_height": 102
   },
   "source": "with open('ips.txt', 'r') as file:\n    content = file.read()\nprint(content)",
   "execution_count": null,
   "outputs": [
    {
     "name": "stdout",
     "text": "912.131.120.111\n912.131.134.000\n912.131.129.129\n",
     "output_type": "stream"
    }
   ]
  },
  {
   "cell_type": "code",
   "metadata": {
    "tags": [],
    "cell_id": "00014-01bcebad-54a4-4f8c-986c-f6610811c3fe",
    "deepnote_to_be_reexecuted": false,
    "source_hash": "4e8a89fb",
    "execution_start": 1638956015194,
    "execution_millis": 12,
    "deepnote_cell_type": "code",
    "deepnote_cell_height": 189.65625,
    "deepnote_output_heights": [
     20.65625
    ]
   },
   "source": "import re\n\npattern = re.compile(\"[0-9]{3}\\.[0-9]{3}\\.12[0-9]{1}\\.[0-9]{3}\")\nmatches = pattern.findall(content)\nmatches",
   "execution_count": null,
   "outputs": [
    {
     "output_type": "execute_result",
     "execution_count": 13,
     "data": {
      "text/plain": "['912.131.120.111', '912.131.129.129']"
     },
     "metadata": {}
    }
   ]
  },
  {
   "cell_type": "markdown",
   "source": "## Filter filenames",
   "metadata": {
    "tags": [],
    "is_collapsed": false,
    "cell_id": "00015-ce278149-812a-49f4-834c-18283b642ba6",
    "deepnote_cell_type": "text-cell-h2",
    "deepnote_cell_height": 70
   }
  },
  {
   "cell_type": "code",
   "metadata": {
    "tags": [],
    "cell_id": "00016-eecd6b29-d138-4b48-842b-0621a70e8ee5",
    "deepnote_to_be_reexecuted": false,
    "source_hash": "6b91d3b1",
    "execution_start": 1638966474044,
    "execution_millis": 94,
    "deepnote_cell_type": "code",
    "deepnote_cell_height": 319.65625,
    "deepnote_output_heights": [
     132.65625
    ]
   },
   "source": "from pathlib import Path \n\nroot_dir = Path('files')\nfilenames = root_dir.iterdir()\nfilenames_str = [filename.name for filename in filenames]\nfilenames_str",
   "execution_count": null,
   "outputs": [
    {
     "output_type": "execute_result",
     "execution_count": 1,
     "data": {
      "text/plain": "['Nov-12.txt',\n 'billy_Nov-13.txt',\n 'november-14.txt',\n 'nov-20.txt',\n 'Nov-22.txt',\n 'November-24.txt',\n 'Oct-17.txt']"
     },
     "metadata": {}
    }
   ]
  },
  {
   "cell_type": "code",
   "metadata": {
    "tags": [],
    "cell_id": "00017-b892dcc9-f6d7-4b34-991c-47ba99317003",
    "deepnote_to_be_reexecuted": false,
    "source_hash": "21d7144",
    "execution_start": 1638966477931,
    "execution_millis": 32,
    "deepnote_cell_type": "code",
    "deepnote_cell_height": 189.65625,
    "deepnote_output_heights": [
     20.65625
    ]
   },
   "source": "import re\n\npattern = re.compile(\"nov[a-z]*-(?:[1-9]|1[0-9]|20).txt\", re.IGNORECASE)\nmatches = [filename for filename in filenames_str if pattern.findall(filename)]\nmatches",
   "execution_count": null,
   "outputs": [
    {
     "output_type": "execute_result",
     "execution_count": 2,
     "data": {
      "text/plain": "['Nov-12.txt', 'billy_Nov-13.txt', 'november-14.txt', 'nov-20.txt']"
     },
     "metadata": {}
    }
   ]
  },
  {
   "cell_type": "markdown",
   "source": "<a style='text-decoration:none;line-height:16px;display:flex;color:#5B5B62;padding:10px;justify-content:end;' href='https://deepnote.com?utm_source=created-in-deepnote-cell&projectId=e50798d4-8475-4246-be17-3e2d4aac3759' target=\"_blank\">\n<img alt='Created in deepnote.com' style='display:inline;max-height:16px;margin:0px;margin-right:7.5px;' src='data:image/svg+xml;base64,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' > </img>\nCreated in <span style='font-weight:600;margin-left:4px;'>Deepnote</span></a>",
   "metadata": {
    "tags": [],
    "created_in_deepnote_cell": true,
    "deepnote_cell_type": "markdown"
   }
  }
 ],
 "nbformat": 4,
 "nbformat_minor": 2,
 "metadata": {
  "orig_nbformat": 2,
  "deepnote": {
   "is_reactive": false
  },
  "deepnote_notebook_id": "6503bbb7-e662-4652-8b50-fcc77259abc1",
  "deepnote_execution_queue": []
 }
}